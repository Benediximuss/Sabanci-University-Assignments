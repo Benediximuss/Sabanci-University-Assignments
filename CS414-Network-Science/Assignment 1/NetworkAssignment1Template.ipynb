{
 "cells": [
  {
   "cell_type": "markdown",
   "metadata": {},
   "source": [
    "# Assignment #1"
   ]
  },
  {
   "cell_type": "markdown",
   "metadata": {},
   "source": [
    "Please follow instruction below to complete your assingment. \n",
    "You are expected to provide:\n",
    "- data files\n",
    "- IPython notebook\n",
    "\n",
    "Please use code blocks to comment and explain your code."
   ]
  },
  {
   "cell_type": "markdown",
   "metadata": {},
   "source": [
    "STUDENT ID: [Please replace this with your ID]"
   ]
  },
  {
   "cell_type": "code",
   "execution_count": 2,
   "metadata": {
    "ExecuteTime": {
     "end_time": "2021-03-10T18:11:16.278018Z",
     "start_time": "2021-03-10T18:11:15.632314Z"
    },
    "collapsed": true
   },
   "outputs": [],
   "source": [
    "%matplotlib inline \n",
    "import os, sys\n",
    "import json\n",
    "import networkx as nx\n",
    "\n",
    "# Import any other package you may need"
   ]
  },
  {
   "cell_type": "markdown",
   "metadata": {},
   "source": [
    "## Erdos-Renyi network simulation"
   ]
  },
  {
   "cell_type": "code",
   "execution_count": 3,
   "metadata": {
    "ExecuteTime": {
     "end_time": "2021-03-10T18:15:34.458036Z",
     "start_time": "2021-03-10T18:15:34.449376Z"
    }
   },
   "outputs": [
    {
     "data": {
      "text/plain": [
       "'\\nYou will need to simulate 100 random initializations for \\np=0.05, p=0.1 and p=0.3 and \\nplot distributions for number of edges in a single figure.\\n'"
      ]
     },
     "execution_count": 3,
     "metadata": {},
     "output_type": "execute_result"
    }
   ],
   "source": [
    "def simulate_erdos_renyi(N, p):\n",
    "    graph = nx.Graph()\n",
    "    \n",
    "    '''\n",
    "    Implement code for ER network generation.\n",
    "    Please do not use nx.gnp_random_graph function here.\n",
    "    '''\n",
    "    \n",
    "    return graph\n",
    "\n",
    "\n",
    "'''\n",
    "You will need to simulate 100 random initializations for \n",
    "p=0.05, p=0.1 and p=0.3 and \n",
    "plot distributions for number of edges in a single figure.\n",
    "'''\n"
   ]
  },
  {
   "cell_type": "markdown",
   "metadata": {},
   "source": [
    "# Network generation and node properties"
   ]
  },
  {
   "cell_type": "markdown",
   "metadata": {},
   "source": [
    "Request and download dataset for your own social media accounts and analyze using network science methods.\n",
    "\n",
    "If you are not a frequnt users, you can select 3 networks with different categorical subdomains using the database below.\n",
    "\n",
    "https://icon.colorado.edu/#!/networks\n",
    "\n",
    "Please keep the networks smaller than 10.000 nodes.\n",
    "\n",
    "Explore the different algorithms available on networkx for node and graph level properties.\n",
    "https://networkx.org/documentation/stable/reference/algorithms/index.html\n",
    "\n",
    "1) You should cover at least \n",
    "- node clustering coefficient, degree, strength\n",
    "- graph density, largest connected components size, radius\n",
    "\n",
    "2) Plot degree distribution. Depending on the graph topology either use linear or logarithmic scale.\n",
    "\n",
    "3) For each edge, plot heatmap for degree of the nodes at each end and discuss whether the network is assortative or disassortative."
   ]
  },
  {
   "cell_type": "markdown",
   "metadata": {},
   "source": [
    "### Network analysis"
   ]
  },
  {
   "cell_type": "code",
   "execution_count": null,
   "metadata": {
    "collapsed": true
   },
   "outputs": [],
   "source": [
    "# Load network\n",
    "\n",
    "# Compute node and graph properties. Keep node properties in the GEXF file and print graph properties here\n",
    "\n",
    "# Export to Gexf file.\n"
   ]
  },
  {
   "cell_type": "markdown",
   "metadata": {},
   "source": [
    "### Plot degree distribution"
   ]
  },
  {
   "cell_type": "code",
   "execution_count": null,
   "metadata": {
    "collapsed": true
   },
   "outputs": [],
   "source": []
  },
  {
   "cell_type": "markdown",
   "metadata": {},
   "source": [
    "### Assortativeness analysis"
   ]
  },
  {
   "cell_type": "code",
   "execution_count": null,
   "metadata": {
    "collapsed": true
   },
   "outputs": [],
   "source": []
  },
  {
   "cell_type": "markdown",
   "metadata": {},
   "source": [
    "# Cayley tree"
   ]
  },
  {
   "cell_type": "markdown",
   "metadata": {},
   "source": [
    "You can find more information about Cayley tree or bethe lattice below\n",
    "\n",
    "https://en.wikipedia.org/wiki/Bethe_lattice"
   ]
  },
  {
   "cell_type": "code",
   "execution_count": null,
   "metadata": {
    "collapsed": true
   },
   "outputs": [],
   "source": []
  }
 ],
 "metadata": {
  "kernelspec": {
   "display_name": "Python 3",
   "language": "python",
   "name": "python3"
  },
  "language_info": {
   "codemirror_mode": {
    "name": "ipython",
    "version": 3
   },
   "file_extension": ".py",
   "mimetype": "text/x-python",
   "name": "python",
   "nbconvert_exporter": "python",
   "pygments_lexer": "ipython3",
   "version": "3.6.6"
  }
 },
 "nbformat": 4,
 "nbformat_minor": 2
}
