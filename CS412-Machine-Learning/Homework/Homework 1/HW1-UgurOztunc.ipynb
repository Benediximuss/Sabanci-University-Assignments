{
  "nbformat": 4,
  "nbformat_minor": 0,
  "metadata": {
    "colab": {
      "provenance": []
    },
    "kernelspec": {
      "name": "python3",
      "display_name": "Python 3"
    },
    "gpuClass": "standard"
  },
  "cells": [
    {
      "cell_type": "markdown",
      "metadata": {
        "id": "voHKcAfRfdNY"
      },
      "source": [
        "# CS412 - Machine Learning - 2023\n",
        "## Homework 1\n",
        "100 pts\n",
        "\n",
        "## Software: \n",
        "\n",
        "You may find the necessary function references here: \n",
        "\n",
        "http://scikit-learn.org/stable/supervised_learning.html\n",
        "\n",
        "When you search for KNeighborsClassifier for instance, you should find the relevant function and explained parameters, easily.\n",
        "\n",
        "## Submission: \n",
        "Fill this notebook. Write the report section at the end, removing the part in italics. \n",
        "\n",
        "You should prepare a separate pdf document as your homework (name HW1-CS412-yourname.pdf) which consists of the report (Part 8) of the notebook for easy viewing -and- include a link to your notebook from within the pdf report (make sure to include the link obtained from the **Share** button on top right)."
      ]
    },
    {
      "cell_type": "markdown",
      "metadata": {
        "id": "_YOYiWvHbNDW"
      },
      "source": [
        "##1) Initialize\n",
        "\n",
        "*   First make a copy of the notebook given to you as a starter.\n",
        "\n",
        "*   Make sure you click the Connect button from upper right.\n"
      ]
    },
    {
      "cell_type": "code",
      "source": [
        "import random\n",
        "import numpy as np\n",
        "\n",
        "random.seed(412)\n",
        "np.random.seed(412)"
      ],
      "metadata": {
        "id": "UIjLyYzJvant"
      },
      "execution_count": null,
      "outputs": []
    },
    {
      "cell_type": "markdown",
      "metadata": {
        "id": "MM-wwHR8qL0M"
      },
      "source": [
        "## 2) Load training dataset\n",
        "\n",
        "*  Read MNIST dataset from Keras library.\n",
        "\n"
      ]
    },
    {
      "cell_type": "code",
      "metadata": {
        "id": "vsX8gEbCUqPr"
      },
      "source": [
        "# this cell can be skipped at the running time\n",
        "from keras.datasets import mnist\n",
        "(X_train, Y_train), (X_test, Y_test) = mnist.load_data()"
      ],
      "execution_count": null,
      "outputs": []
    },
    {
      "cell_type": "markdown",
      "source": [
        "##3) Reshape the MNIST data\n",
        "\n",
        "  In order to use images as input data for the sklearn k-NN classifier, the 2D image arrays need to be reshaped into a 1D arrays (in other words, a feature vector)."
      ],
      "metadata": {
        "id": "jykF6CFioiSw"
      }
    },
    {
      "cell_type": "code",
      "source": [
        "print('Before reshaping: ', X_train.shape, X_test.shape)"
      ],
      "metadata": {
        "id": "LAX4AsLWrGam",
        "colab": {
          "base_uri": "https://localhost:8080/"
        },
        "outputId": "fed87702-850c-4dc7-a697-2a7d37e3396a"
      },
      "execution_count": null,
      "outputs": [
        {
          "output_type": "stream",
          "name": "stdout",
          "text": [
            "Before reshaping:  (60000, 28, 28) (10000, 28, 28)\n"
          ]
        }
      ]
    },
    {
      "cell_type": "code",
      "source": [
        "N_train, height, width = X_train.shape\n",
        "\n",
        "X_train = np.reshape(X_train, (N_train, height*width)) # from array of shape N_train x 28 x 28 ---> N_train x 784 (Note: 28*28 = 784)\n",
        "X_test = np.reshape(X_test, (len(X_test), height*width)) # from array of shape N_test x 28 x 28 ---> N_test x 784 "
      ],
      "metadata": {
        "id": "SEqkxBe5ohf1"
      },
      "execution_count": null,
      "outputs": []
    },
    {
      "cell_type": "code",
      "source": [
        "print('After reshaping: ', X_train.shape, X_test.shape)"
      ],
      "metadata": {
        "id": "Zob6_DCBqSHI",
        "colab": {
          "base_uri": "https://localhost:8080/"
        },
        "outputId": "256959d4-25ea-4f86-9758-105d688919d4"
      },
      "execution_count": null,
      "outputs": [
        {
          "output_type": "stream",
          "name": "stdout",
          "text": [
            "After reshaping:  (60000, 784) (10000, 784)\n"
          ]
        }
      ]
    },
    {
      "cell_type": "markdown",
      "metadata": {
        "id": "Vop4rwZVxh9Z"
      },
      "source": [
        "##4) Shuffle and Split TRAINING data as train (also called development) (80%) and validation (20%) "
      ]
    },
    {
      "cell_type": "code",
      "metadata": {
        "id": "KEhk8R24xhdY",
        "colab": {
          "base_uri": "https://localhost:8080/"
        },
        "outputId": "f415acfd-58c5-41bc-b2f3-02bf703fb34f"
      },
      "source": [
        "from sklearn.utils import shuffle\n",
        "\n",
        "# Shuffle the training data\n",
        "X_train_shuffled, Y_train_shuffled = shuffle(X_train, Y_train)\n",
        "\n",
        "# Split %80 train - 20% val\n",
        "X_training, X_validation = np.split(X_train_shuffled, [int(len(X_train_shuffled) * 0.8)])\n",
        "Y_training, Y_validation = np.split(Y_train_shuffled, [int(len(Y_train_shuffled) * 0.8)])\n",
        "\n",
        "print(\"%80 reserved for training:\")\n",
        "print(\" Training set X:\", X_training.shape)\n",
        "print(\" Training set Y:\", Y_training.shape)\n",
        "print(\"%20 reserved for validation:\")\n",
        "print(\" Validation set X:\", X_validation.shape)\n",
        "print(\" Validation set Y:\", Y_validation.shape)"
      ],
      "execution_count": null,
      "outputs": [
        {
          "output_type": "stream",
          "name": "stdout",
          "text": [
            "%80 reserved for training:\n",
            " Training set X: (48000, 784)\n",
            " Training set Y: (48000,)\n",
            "%20 reserved for validation:\n",
            " Validation set X: (12000, 784)\n",
            " Validation set Y: (12000,)\n"
          ]
        }
      ]
    },
    {
      "cell_type": "markdown",
      "metadata": {
        "id": "xR1oMsPu0AV_"
      },
      "source": [
        "##5) Train k-NN  classifier on development data and do model selection using the validation data\n",
        "\n",
        "\n",
        "* Train a k-NN classifier (use the values specified in the homework PDF file, do not try other values) with the rest of the parameters set to default. \n",
        "\n",
        "* The aim in this homework is not necessarily obtaining the best performance, but to establish the ML pipeline (train a few models, select based on validation set, test, report).\n"
      ]
    },
    {
      "cell_type": "code",
      "metadata": {
        "id": "Nv6oac-T3Wy5",
        "colab": {
          "base_uri": "https://localhost:8080/"
        },
        "outputId": "510e597f-4ed2-4c12-8663-7f634ec34589"
      },
      "source": [
        "from sklearn.neighbors import KNeighborsClassifier\n",
        "from sklearn.metrics import accuracy_score\n",
        "\n",
        "k_values = [1, 3, 5, 7, 9, 11, 13]   # <--- Fill the list with the values for n_neighbors\n",
        "\n",
        "best_acc = -1 \n",
        "best_k = None\n",
        "val_accs = [] \n",
        "for k in k_values:\n",
        "# 1) initialize a k-NN classifier with n_neighbors parameter set to k\n",
        "    classifier = KNeighborsClassifier(n_neighbors=k)\n",
        "# 2) train the classifier using training set\n",
        "    classifier.fit(X_training, Y_training)\n",
        "# 3) get the predictions of the classifier on the validation set\n",
        "    Y_prediction = classifier.predict(X_validation)\n",
        "# 4) compute the accuracy of the predictions on the validation set and append it to val_accs list\n",
        "    score = accuracy_score(Y_validation, Y_prediction)\n",
        "    print('Validation accuracy for k =', k, ':', score)\n",
        "    val_accs.append(score)\n",
        "# if validation accuracy is better than best_acc, update best_acc and best_k\n",
        "    if score > best_acc:\n",
        "        best_acc = score\n",
        "        best_k = k\n",
        "\n",
        "print('Best validation accuracy (', best_acc, ') is achieved with k =', best_k)"
      ],
      "execution_count": null,
      "outputs": [
        {
          "output_type": "stream",
          "name": "stdout",
          "text": [
            "Validation accuracy for k = 1 : 0.9721666666666666\n",
            "Validation accuracy for k = 3 : 0.9699166666666666\n",
            "Validation accuracy for k = 5 : 0.96925\n",
            "Validation accuracy for k = 7 : 0.9684166666666667\n",
            "Validation accuracy for k = 9 : 0.9668333333333333\n",
            "Validation accuracy for k = 11 : 0.9655833333333333\n",
            "Validation accuracy for k = 13 : 0.9639166666666666\n",
            "Best validation accuracy ( 0.9721666666666666 ) is achieved with k = 1\n"
          ]
        }
      ]
    },
    {
      "cell_type": "markdown",
      "source": [
        "## 6) Plot the obtained validation accuracies versus k values "
      ],
      "metadata": {
        "id": "DQ-0AmI3eqVL"
      }
    },
    {
      "cell_type": "code",
      "source": [
        "import matplotlib.pyplot as plt\n",
        "\n",
        "plt.plot(k_values, val_accs)\n",
        "plt.xticks(k_values)\n",
        "plt.xlabel('k')\n",
        "plt.ylabel('Validation Accuracy')\n",
        "plt.show()"
      ],
      "metadata": {
        "id": "L4P-dYSoeo3y",
        "colab": {
          "base_uri": "https://localhost:8080/",
          "height": 279
        },
        "outputId": "2d5aba78-7af0-4f96-d114-b7bc6d6988c8"
      },
      "execution_count": null,
      "outputs": [
        {
          "output_type": "display_data",
          "data": {
            "text/plain": [
              "<Figure size 432x288 with 1 Axes>"
            ],
            "image/png": "[encoded data removed]"
          },
          "metadata": {
            "needs_background": "light"
          }
        }
      ]
    },
    {
      "cell_type": "markdown",
      "metadata": {
        "id": "boqe46St1--f"
      },
      "source": [
        "## 7) Test your classifier on test set\n",
        "\n",
        "- Now that you have the best value for the ***n_neighbors*** parameter, train a model **with best parameters that you have found according to your validation results**. But now, train the model by combining the training and validation sets. Then report the accuracy on the test set. "
      ]
    },
    {
      "cell_type": "code",
      "metadata": {
        "id": "IPLke8jyFGng",
        "colab": {
          "base_uri": "https://localhost:8080/"
        },
        "outputId": "d99aee2f-b516-485d-e585-62b082224462"
      },
      "source": [
        "# 1) initialize a k-NN classifier with n_neighbors parameter set to best_k\n",
        "finalClassifier = KNeighborsClassifier(n_neighbors=best_k)\n",
        "# 2) combine the training and validation sets (you may want to look up numpy.concatenate function for this)\n",
        "X_combined = np.concatenate((X_training, X_validation), axis=0)\n",
        "Y_combined = np.concatenate((Y_training, Y_validation), axis=0)\n",
        "# 3) train the classifier using this set\n",
        "finalClassifier.fit(X_combined, Y_combined)\n",
        "# 4) get the predictions of the classifier on the test set \n",
        "Y_prediction = finalClassifier.predict(X_test)\n",
        "# 5) compute the accuracy of the predictions on the test set\n",
        "score = accuracy_score(Y_test, Y_prediction)\n",
        "print('Test accuracy for k =', best_k, ':', score)\n",
        "\n",
        "# Report your result"
      ],
      "execution_count": null,
      "outputs": [
        {
          "output_type": "stream",
          "name": "stdout",
          "text": [
            "Test accuracy for k = 1 : 0.9691\n"
          ]
        }
      ]
    },
    {
      "cell_type": "markdown",
      "metadata": {
        "id": "WG3473I9dGE8"
      },
      "source": [
        "##8) Report your results\n",
        "\n",
        "**Notebook should be RUN:** As training and testing may take a long time, we may just look at your notebook results; so make sure **each cell is run**, so outputs are there.\n",
        "\n",
        "**Report:** Write an **one page summary** of your approach to this problem **below**; this should be like an abstract of a paper or the executive summary (you aim for clarity and passing on information, not going to details about known facts such as what kNN is or what MNIST is, assuming they are known to people in your research area). \n",
        "\n",
        "**Must include statements such as those below:**\n",
        "**(Remove the text in parentheses, below, and include your own report)**\n",
        "\n",
        "( Include the problem definition: 1-2 lines )\n",
        "\n",
        " (Talk about train/val/test sets, size and how split. )\n",
        "\n",
        " (In here you would also talk about feature extraction or preprocessing - but here we dont do any.)\n",
        "\n",
        " ( Give the validation accuracies for different approach and meta-parameters tried **in a table** and state which one you selected as your model.)\n",
        "\n",
        "( State  what your test results are with the chosen approach and meta-parameters: e.g. \"We have obtained the best results on the validation set with the ..........approach using a value of ...... for .... parameter. The result of this model on the test data is ..... % accuracy.\"\" \n",
        " \n",
        "As long as you have the essential info summarizing what you have done and your results, exact format or extra content (like what you may find interesting) does not matter. You will get full points from here as long as you have a good (enough) summary of your work, regardless of your best performance or what you have decided to talk about in the last few lines.\n",
        "\n"
      ]
    }
  ]
}